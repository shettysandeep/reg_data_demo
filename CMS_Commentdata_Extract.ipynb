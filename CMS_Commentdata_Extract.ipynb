{
 "cells": [
  {
   "cell_type": "markdown",
   "metadata": {},
   "source": [
    "## CMS comment arrival analysis 2019\n",
    "Sandeep Shetty  \n",
    "**April 12, 2019**  \n",
    "*Python 3.5*"
   ]
  },
  {
   "cell_type": "code",
   "execution_count": 1,
   "metadata": {
    "collapsed": false
   },
   "outputs": [],
   "source": [
    "# modules imported\n",
    "import requests \n",
    "import pandas as pd\n",
    "import numpy as np\n",
    "import json \n",
    "import time\n",
    "import datetime as dt\n",
    "import itertools\n",
    "import os\n",
    "import matplotlib.pyplot as plt\n",
    "import matplotlib.ticker as ticker"
   ]
  },
  {
   "cell_type": "markdown",
   "metadata": {},
   "source": [
    "### Data Extraction via Regulations API"
   ]
  },
  {
   "cell_type": "code",
   "execution_count": 2,
   "metadata": {
    "collapsed": true
   },
   "outputs": [],
   "source": [
    "def get_API_key(file):\n",
    "    \"\"\"\n",
    "    Retrieving API on desktop\n",
    "    \"\"\"\n",
    "    with open(file) as f:\n",
    "        apikey = f.read()\n",
    "    return apikey"
   ]
  },
  {
   "cell_type": "code",
   "execution_count": 3,
   "metadata": {
    "collapsed": true
   },
   "outputs": [],
   "source": [
    "api_key = get_API_key('Reg-API-Key.txt')"
   ]
  },
  {
   "cell_type": "code",
   "execution_count": 4,
   "metadata": {
    "collapsed": false
   },
   "outputs": [],
   "source": [
    "def reg_data_extract(docnum):\n",
    "    base = 'https://api.data.gov/regulations/v3/documents'\n",
    "    api = api_key # sandeep's api key\n",
    "    docnum =  docnum                       # Docket Id WHD-2017-003 'CMS-2018-0132' \n",
    "    dattyp = 'json'                                  # record type requested\n",
    "    posteddate1 = '01/17/2017'\n",
    "    posteddate2=  '01/26/2019'\n",
    "\n",
    "    print(\"Running for this date-range: {} to {}\".format(str(posteddate1), str(posteddate2)))\n",
    "\n",
    "    '''\n",
    "    Some of the variables below are specific to Regulations.gov API. \n",
    "    For this website, user doesn't need to enter values of 'numres' \n",
    "    if the intention is collect all comments. \n",
    "    Change only if you have any want test using smaller batches\n",
    "\n",
    "    '''\n",
    "\n",
    "    numres = 9830             # total number of records (No input required)\n",
    "    rpp = 500                 # results per page (Set by the user)\n",
    "    pg = 0                    # page offset (calculated in the code as per Regulations.gov instructions)\n",
    "    all_limit = 1000          # request per hour allowed (Regulations.gov API default is 1000)\n",
    "    nreqhr = int(numres/rpp)  # number of requests needed to download data\n",
    "\n",
    "\n",
    "    def url_maker(base, api, docnum, dattyp, rpp, pg):\n",
    "\n",
    "        '''Uses the parameters above (url,API key, etc.) \n",
    "               and creates url\n",
    "        '''\n",
    "        url_name = base + '.' + dattyp + '?api_key=' + api + '&D=' + docnum +   '&rpp=' + str(rpp) + '&po=' + str(pg)  + '&pd=' + str(posteddate1) +  '-' + str(posteddate2)\n",
    "\n",
    "        #url_name = url_base\n",
    "\n",
    "        return url_name\n",
    "\n",
    "\n",
    "    def request_maker(pg=0):\n",
    "\n",
    "        '''Function makes 1 request. Outputs comments in a json file\n",
    "           Default is 0. It reuests and collects the first page of \n",
    "           results. Parameterizing for multiple requests below\n",
    "        ''' \n",
    "        res1 = requests.get(url_maker(base, api, docnum, dattyp, rpp, pg))\n",
    "        data = res1.json()    \n",
    "\n",
    "        return data, res1\n",
    "\n",
    "\n",
    "    def document_info():\n",
    "        '''Collects some information regarding the Docket. Such as Total \n",
    "           number of records, etc.\n",
    "        '''\n",
    "        r = request_maker()\n",
    "        dt = r[0]\n",
    "        return (dt.get('totalNumRecords'), r[1].headers.get('X-RateLimit-Remaining'))\n",
    "\n",
    "\n",
    "    def date_converter(date):\n",
    "        ''' Args: string date from the API\n",
    "            Output: date in datetime format '''\n",
    "\n",
    "        t1t = date.replace(\"GMT\",\"\").rstrip()\n",
    "        t1 = dt.datetime.strptime(t1t,\"%a, %d %b %Y %H:%M:%S\")\n",
    "        #t2 - t1 + dt.timedelta(hours = 1)\n",
    "        return t1\n",
    "\n",
    "    def data_getter():\n",
    "\n",
    "        '''Uses the .json output file from request_maker() as input,\n",
    "           and returns pandas data frame. Tests if requests exceed the \n",
    "           alloted number per hour. Pauses the execution for some time\n",
    "        '''\n",
    "        tst = pd.DataFrame()                 # Generating an empty dataset\n",
    "\n",
    "\n",
    "        rate_limit = int(document_info()[1]) # starting number of available requests\n",
    "        tot_com = document_info()[0]         # total number of comments present in the docket\n",
    "        nreqhr = int(tot_com/rpp)            # total number of requests needed to extract all comments\n",
    "\n",
    "\n",
    "        while tot_com > 0 :                  #  while total comments available or needed is positive \n",
    "\n",
    "            new_tot_com = (rate_limit*rpp)       # apportion feasible number of comments based on the rate available\n",
    "\n",
    "            if rate_limit > nreqhr :         # check permitted requests (if more than needed)\n",
    "\n",
    "                print(\"inside if\")\n",
    "\n",
    "                for val in  np.arange(0 , tot_com, rpp):\n",
    "                    data = request_maker(val)\n",
    "                    tmpdat = pd.DataFrame(data[0].get('documents'))\n",
    "                    tst = tst.append(tmpdat,sort=True)\n",
    "\n",
    "\n",
    "\n",
    "                '''If the # of permitted requests available is less than needed\n",
    "                then break the API data requests into permissible chunks per hour'''\n",
    "\n",
    "            else:\n",
    "\n",
    "                print(\"inside else\")\n",
    "\n",
    "                start_time = int(data[1].headers.get('Date'))  # start time record\n",
    "                time1 = date_converter(start_time)             # function to convert date \n",
    "\n",
    "\n",
    "                for val in  np.arange(0 , new_tot_com, rpp):\n",
    "                    data = request_maker(val)\n",
    "                    tmpdat = pd.DataFrame(data[0].get('documents'))\n",
    "                    tst = tst.append(tmpdat, sort=True)        \n",
    "\n",
    "\n",
    "\n",
    "                end_time = int(data[1].headers.get('Date'))\n",
    "                time2 = date_converter(pause_time)\n",
    "\n",
    "                halt_time = time1 + dt.timedelta(hours = 1)         # check if 1 hour has passed since\n",
    "\n",
    "                if end_time < halt_time:                            # Pause process till limit is reset at completion of the hour\n",
    "\n",
    "                    seconds_wait = (half_time - pause_time).seconds # datetime objects resulting \n",
    "                    time.sleep(seconds_wait.seconds())\n",
    "\n",
    "            # updating decision variables \n",
    "            tst_len = len(tst)                                     # no of comments downloaded\n",
    "            rate_limit = int(data[1].\n",
    "                             headers.get('X-RateLimit-Remaining'))  # obtain new  rate limit\n",
    "            tot_com = tot_com - tst_len                             # obtain remaining comments to extract\n",
    "            nreqhr = int(tot_com/rpp)                               # calculate requests needed to extract remaining comments\n",
    "            print(tot_com)      \n",
    "\n",
    "        return tst\n",
    "    \n",
    "    dat = data_getter()\n",
    "    \n",
    "    return dat "
   ]
  },
  {
   "cell_type": "markdown",
   "metadata": {},
   "source": [
    "### History of CMS NPRM"
   ]
  },
  {
   "cell_type": "code",
   "execution_count": 5,
   "metadata": {
    "collapsed": true
   },
   "outputs": [],
   "source": [
    "import seaborn as sns\n",
    "import datetime as dt\n",
    "%matplotlib inline"
   ]
  },
  {
   "cell_type": "code",
   "execution_count": 3,
   "metadata": {
    "collapsed": false
   },
   "outputs": [],
   "source": [
    "tes = pd.read_json('CMS_docket_ID.json')"
   ]
  },
  {
   "cell_type": "code",
   "execution_count": 4,
   "metadata": {
    "collapsed": false
   },
   "outputs": [],
   "source": [
    "CMS_Dockets = pd.DataFrame.from_records(tes.documents)"
   ]
  },
  {
   "cell_type": "code",
   "execution_count": 5,
   "metadata": {
    "collapsed": true
   },
   "outputs": [],
   "source": [
    "CMS_Dockets.commentStartDate = pd.to_datetime(CMS_Dockets.commentStartDate)\n",
    "CMS_Dockets['StartDate'] = CMS_Dockets.commentStartDate.dt.date"
   ]
  },
  {
   "cell_type": "code",
   "execution_count": 6,
   "metadata": {
    "collapsed": false
   },
   "outputs": [],
   "source": [
    "#CMS_Dockets.loc[:,['documentId','commentDueDate', 'commentStartDate', 'numberOfCommentsReceived','title']]\n",
    "CMS_Dockets1 = CMS_Dockets[~CMS_Dockets.title.str.contains('Display*')]"
   ]
  },
  {
   "cell_type": "code",
   "execution_count": 7,
   "metadata": {
    "collapsed": false
   },
   "outputs": [
    {
     "data": {
      "text/plain": [
       "<seaborn.axisgrid.FacetGrid at 0x1199b43c8>"
      ]
     },
     "execution_count": 7,
     "metadata": {},
     "output_type": "execute_result"
    }
   ],
   "source": [
    "y = sns.relplot(x='StartDate',y='numberOfCommentsReceived', data=CMS_Dockets1, kind = 'line')\n",
    "y.set_xticklabels(rotation=45)"
   ]
  },
  {
   "cell_type": "code",
   "execution_count": 10,
   "metadata": {
    "collapsed": false
   },
   "outputs": [],
   "source": [
    "CMS=CMS_Dockets1.drop_duplicates(subset='title')\n",
    "#CMS_Dockets1.loc[CMS_Dockets1.title.str.contains('Medicare'), 'title'].drop_duplicates()"
   ]
  },
  {
   "cell_type": "code",
   "execution_count": 17,
   "metadata": {
    "collapsed": false
   },
   "outputs": [],
   "source": [
    "#lco = ['Medicare','Medicaid','Patient Protection','Health Reimbursement Arrangements']"
   ]
  },
  {
   "cell_type": "code",
   "execution_count": 235,
   "metadata": {
    "collapsed": true
   },
   "outputs": [],
   "source": [
    "#for items in lco:\n",
    "#    CMS[items]= CMS.title.str.contains(items)*1"
   ]
  },
  {
   "cell_type": "code",
   "execution_count": 11,
   "metadata": {
    "collapsed": false
   },
   "outputs": [],
   "source": [
    "CMS.columns=CMS.columns.str.replace(\" \",\"_\")"
   ]
  },
  {
   "cell_type": "code",
   "execution_count": 12,
   "metadata": {
    "collapsed": false
   },
   "outputs": [],
   "source": [
    "CMS = CMS[~CMS.commentDueDate.isna()]"
   ]
  },
  {
   "cell_type": "code",
   "execution_count": 13,
   "metadata": {
    "collapsed": false
   },
   "outputs": [
    {
     "data": {
      "text/plain": [
       "count       57.000000\n",
       "mean      3082.842105\n",
       "std      10328.737106\n",
       "min          0.000000\n",
       "25%         60.000000\n",
       "50%        253.000000\n",
       "75%       1777.000000\n",
       "max      75439.000000\n",
       "Name: numberOfCommentsReceived, dtype: float64"
      ]
     },
     "execution_count": 13,
     "metadata": {},
     "output_type": "execute_result"
    }
   ],
   "source": [
    "CMS.numberOfCommentsReceived.describe()"
   ]
  },
  {
   "cell_type": "code",
   "execution_count": 123,
   "metadata": {
    "collapsed": false
   },
   "outputs": [],
   "source": [
    "docketData = (CMS.loc[CMS.numberOfCommentsReceived>2000,[\"title\",\"numberOfCommentsReceived\",\"StartDate\",\"docketId\"]].\n",
    " sort_values(by=['numberOfCommentsReceived'],ascending=False))"
   ]
  },
  {
   "cell_type": "code",
   "execution_count": 134,
   "metadata": {
    "collapsed": false
   },
   "outputs": [],
   "source": [
    "docketData.docketId = docketData.docketId.str.lower()\n",
    "docket_interest=docketData.docketId.head()"
   ]
  },
  {
   "cell_type": "code",
   "execution_count": 43,
   "metadata": {
    "collapsed": true
   },
   "outputs": [],
   "source": [
    "#CMS.to_csv(\"CMS_Dockets.csv\")\n",
    "CMS = pd.read_csv(\"CMS_Dockets.csv\")"
   ]
  },
  {
   "cell_type": "markdown",
   "metadata": {},
   "source": [
    "### Incorporating Zippora's Dockets"
   ]
  },
  {
   "cell_type": "code",
   "execution_count": 148,
   "metadata": {
    "collapsed": true
   },
   "outputs": [],
   "source": [
    "zippora=pd.read_csv('CMS_Docket_zk.csv')\n",
    "zippora_dock = zippora.loc[zippora['Related to prescription drugs']==1,'docketId'].drop_duplicates()\n",
    "\n",
    "plot_order=(zippora.loc[zippora['Related to prescription drugs']==1,['docketId','numberOfCommentsReceived']].\n",
    "groupby(by='docketId').sum().sort_values(by='numberOfCommentsReceived',ascending=False).index)"
   ]
  },
  {
   "cell_type": "markdown",
   "metadata": {
    "collapsed": true
   },
   "source": [
    "### Running analysis on CMS Docket - CMS-2018-0132.csv"
   ]
  },
  {
   "cell_type": "code",
   "execution_count": 154,
   "metadata": {
    "collapsed": false
   },
   "outputs": [],
   "source": [
    "cms_2018_0132 = pd.read_csv(\"cms-2018-0132.csv\")"
   ]
  },
  {
   "cell_type": "code",
   "execution_count": 429,
   "metadata": {
    "collapsed": true
   },
   "outputs": [],
   "source": [
    "#cms_2018_0132.to_csv('cms_2018_0132.csv')"
   ]
  },
  {
   "cell_type": "code",
   "execution_count": 34,
   "metadata": {
    "collapsed": false
   },
   "outputs": [],
   "source": [
    "def clean_up(file=cms_2018_0132):\n",
    "    file.postedDate = pd.to_datetime(file.postedDate)\n",
    "    file['startDate']=file.postedDate.min()\n",
    "    file['daysSince'] = file.postedDate - file.startDate\n",
    "    file['Days']=file.daysSince.dt.days\n",
    "    return file"
   ]
  },
  {
   "cell_type": "code",
   "execution_count": 158,
   "metadata": {
    "collapsed": true
   },
   "outputs": [],
   "source": [
    "cmstest = clean_up(cms_2018_0132)"
   ]
  },
  {
   "cell_type": "code",
   "execution_count": 171,
   "metadata": {
    "collapsed": false
   },
   "outputs": [
    {
     "data": {
      "text/plain": [
       "6     cms-2018-0135\n",
       "17    cms-2018-0090\n",
       "24    cms-2018-0076\n",
       "39    cms-2018-0015\n",
       "40    cms-2017-0165\n",
       "Name: docketId, dtype: object"
      ]
     },
     "execution_count": 171,
     "metadata": {},
     "output_type": "execute_result"
    }
   ],
   "source": [
    "docket_interest"
   ]
  },
  {
   "cell_type": "code",
   "execution_count": 26,
   "metadata": {
    "collapsed": false
   },
   "outputs": [
    {
     "name": "stdout",
     "output_type": "stream",
     "text": [
      "Running for this date-range: 01/17/2017 to 01/26/2019\n",
      "inside if\n"
     ]
    },
    {
     "name": "stderr",
     "output_type": "stream",
     "text": [
      "//anaconda/envs/py35/lib/python3.5/site-packages/pandas/core/frame.py:6211: FutureWarning: Sorting because non-concatenation axis is not aligned. A future version\n",
      "of pandas will change to not sort by default.\n",
      "\n",
      "To accept the future behavior, pass 'sort=False'.\n",
      "\n",
      "To retain the current behavior and silence the warning, pass 'sort=True'.\n",
      "\n",
      "  sort=sort)\n"
     ]
    },
    {
     "name": "stdout",
     "output_type": "stream",
     "text": [
      "0\n",
      "Running for this date-range: 01/17/2017 to 01/26/2019\n",
      "inside if\n",
      "0\n",
      "Running for this date-range: 01/17/2017 to 01/26/2019\n",
      "inside if\n",
      "0\n",
      "Running for this date-range: 01/17/2017 to 01/26/2019\n",
      "inside if\n",
      "0\n",
      "Running for this date-range: 01/17/2017 to 01/26/2019\n",
      "inside if\n",
      "0\n",
      "Running for this date-range: 01/17/2017 to 01/26/2019\n",
      "inside if\n",
      "0\n",
      "Running for this date-range: 01/17/2017 to 01/26/2019\n",
      "inside if\n",
      "0\n"
     ]
    }
   ],
   "source": [
    "# collecting Docket of interest -v via API\n",
    "# storing in a dictionary com_dat\n",
    "com_dat = {}\n",
    "for item in zippora_dock.values: #docket_interest.values:\n",
    "    name_file = item.upper()\n",
    "    com_dat[item] = reg_data_extract(name_file)"
   ]
  },
  {
   "cell_type": "code",
   "execution_count": 153,
   "metadata": {
    "collapsed": false
   },
   "outputs": [
    {
     "data": {
      "text/plain": [
       "Index(['CMS-2018-0076', 'CMS-2018-0149', 'CMS-2018-0132', 'CMS-2017-0092',\n",
       "       'CMS-2017-0156', 'CMS-2018-0133', 'CMS-2018-0123', 'CMS-2018-0110'],\n",
       "      dtype='object', name='docketId')"
      ]
     },
     "execution_count": 153,
     "metadata": {},
     "output_type": "execute_result"
    }
   ],
   "source": [
    "# data is here\n",
    "plot_order"
   ]
  },
  {
   "cell_type": "code",
   "execution_count": 35,
   "metadata": {
    "collapsed": false
   },
   "outputs": [],
   "source": [
    "# cleaning comment data to obtain time of comment arrived\n",
    "dat2plot = {}\n",
    "\n",
    "for key in com_dat:\n",
    "    dat2plot[key] = clean_up(com_dat[key])"
   ]
  },
  {
   "cell_type": "code",
   "execution_count": 163,
   "metadata": {
    "collapsed": false
   },
   "outputs": [],
   "source": [
    "dat2plot['CMS-2018-0132']=cmstest"
   ]
  },
  {
   "cell_type": "code",
   "execution_count": 39,
   "metadata": {
    "collapsed": false
   },
   "outputs": [],
   "source": [
    "# saving files for later use\n",
    "for key in com_dat:\n",
    "    dat2plot[key].to_csv(key+'.csv')"
   ]
  },
  {
   "cell_type": "markdown",
   "metadata": {},
   "source": [
    "### Plotting arrival rate for CMS Dockets"
   ]
  },
  {
   "cell_type": "code",
   "execution_count": 162,
   "metadata": {
    "collapsed": false
   },
   "outputs": [
    {
     "data": {
      "text/plain": [
       "Index(['CMS-2018-0076', 'CMS-2018-0149', 'CMS-2018-0132', 'CMS-2017-0092',\n",
       "       'CMS-2017-0156', 'CMS-2018-0133', 'CMS-2018-0123', 'CMS-2018-0110'],\n",
       "      dtype='object', name='docketId')"
      ]
     },
     "execution_count": 162,
     "metadata": {},
     "output_type": "execute_result"
    }
   ],
   "source": [
    "plot_order"
   ]
  },
  {
   "cell_type": "code",
   "execution_count": 166,
   "metadata": {
    "collapsed": false
   },
   "outputs": [
    {
     "data": {
      "image/png": "[encoded data removed]",
      "text/plain": [
       "<matplotlib.figure.Figure at 0x12440fdd8>"
      ]
     },
     "metadata": {},
     "output_type": "display_data"
    }
   ],
   "source": [
    "fig = plt.figure(figsize=(15, 17))\n",
    "plt.suptitle(\"Comment Arrival on CMS Regulations \\nRelated to Medicare Part D\")\n",
    "plt.subplots_adjust(wspace=0.2, hspace=0.4)\n",
    "\n",
    "for ind,key in enumerate(plot_order): \n",
    "#for ind,key in enumerate(dat2plot): \n",
    "    ax = fig.add_subplot(4,2,ind+1)\n",
    "    #sns.catplot(x=\"Days\", kind=\"count\", palette=\"ch:.25\",data = dat2plot[key])\n",
    "    g = sns.countplot(x=\"Days\",  palette=\"ch:.25\",data = dat2plot[key])\n",
    "    g.axes.xaxis.set_major_locator(ticker.MultipleLocator(2))\n",
    "    #g.axes.xaxis.set_major_formatter(ticker.ScalarFormatter())\n",
    "    n_com = CMS.loc[CMS.docketId==key.upper(),'numberOfCommentsReceived'].values[0]\n",
    "    #plt.title('{}\\n Number of comments:{}'.format(key.upper(),n_com))\n",
    "    plot_title = CMS.loc[CMS.docketId==key.upper(),'docketTitle'].values[0]\n",
    "    plt.title('{}\\n{} #comments: {}'.format(plot_title[:50],key.upper(),n_com), y = 1.02,  fontsize= 10)\n"
   ]
  },
  {
   "cell_type": "code",
   "execution_count": 167,
   "metadata": {
    "collapsed": false
   },
   "outputs": [],
   "source": [
    "fig.savefig('CMS Regulation_zk.png')"
   ]
  },
  {
   "cell_type": "code",
   "execution_count": 410,
   "metadata": {
    "collapsed": false
   },
   "outputs": [
    {
     "data": {
      "text/plain": [
       "6     cms-2018-0135\n",
       "17    cms-2018-0090\n",
       "24    cms-2018-0076\n",
       "39    cms-2018-0015\n",
       "40    cms-2017-0165\n",
       "Name: docketId, dtype: object"
      ]
     },
     "execution_count": 410,
     "metadata": {},
     "output_type": "execute_result"
    }
   ],
   "source": [
    "docket_interest"
   ]
  },
  {
   "cell_type": "code",
   "execution_count": 424,
   "metadata": {
    "collapsed": false
   },
   "outputs": [
    {
     "data": {
      "text/plain": [
       "38     134\n",
       "39    9120\n",
       "Name: numberOfCommentsReceived, dtype: int64"
      ]
     },
     "execution_count": 424,
     "metadata": {},
     "output_type": "execute_result"
    }
   ],
   "source": [
    "CMS.loc[CMS.docketId=='CMS-2018-0015','numberOfCommentsReceived']"
   ]
  },
  {
   "cell_type": "code",
   "execution_count": 413,
   "metadata": {
    "collapsed": false
   },
   "outputs": [
    {
     "data": {
      "text/plain": [
       "count    9207.000000\n",
       "mean       61.280113\n",
       "std        16.901366\n",
       "min         0.000000\n",
       "25%        56.000000\n",
       "50%        63.000000\n",
       "75%        75.000000\n",
       "max        90.000000\n",
       "Name: Days, dtype: float64"
      ]
     },
     "execution_count": 413,
     "metadata": {},
     "output_type": "execute_result"
    }
   ],
   "source": [
    "dat2plot['cms-2018-0015'].Days.describe()"
   ]
  },
  {
   "cell_type": "code",
   "execution_count": 426,
   "metadata": {
    "collapsed": false
   },
   "outputs": [],
   "source": [
    "CMS.drop(index=38, inplace = True)"
   ]
  },
  {
   "cell_type": "code",
   "execution_count": 451,
   "metadata": {
    "collapsed": false
   },
   "outputs": [
    {
     "data": {
      "text/plain": [
       "False    30\n",
       "True     26\n",
       "Name: docketTitle, dtype: int64"
      ]
     },
     "execution_count": 451,
     "metadata": {},
     "output_type": "execute_result"
    }
   ],
   "source": [
    "CMS.docketTitle.str.contains(\"Medicare|Medicaid\",case=False, regex=True).value_counts()"
   ]
  },
  {
   "cell_type": "code",
   "execution_count": 462,
   "metadata": {
    "collapsed": false
   },
   "outputs": [],
   "source": [
    "test = nlp(CMS.docketTitle[0])"
   ]
  },
  {
   "cell_type": "code",
   "execution_count": 465,
   "metadata": {
    "collapsed": false
   },
   "outputs": [
    {
     "name": "stdout",
     "output_type": "stream",
     "text": [
      "0\n",
      "0\n",
      "0\n",
      "0\n",
      "0\n",
      "0\n",
      "0\n",
      "0\n",
      "0\n",
      "0\n",
      "0\n",
      "0\n"
     ]
    }
   ],
   "source": [
    "for token in test:\n",
    "    print(token.tag)"
   ]
  },
  {
   "cell_type": "code",
   "execution_count": null,
   "metadata": {
    "collapsed": true
   },
   "outputs": [],
   "source": []
  }
 ],
 "metadata": {
  "anaconda-cloud": {},
  "kernelspec": {
   "display_name": "Python [default]",
   "language": "python",
   "name": "python3"
  },
  "language_info": {
   "codemirror_mode": {
    "name": "ipython",
    "version": 3
   },
   "file_extension": ".py",
   "mimetype": "text/x-python",
   "name": "python",
   "nbconvert_exporter": "python",
   "pygments_lexer": "ipython3",
   "version": "3.5.2"
  }
 },
 "nbformat": 4,
 "nbformat_minor": 2
}
